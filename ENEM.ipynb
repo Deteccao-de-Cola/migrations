{
 "cells": [
  {
   "cell_type": "code",
   "execution_count": null,
   "id": "38105f05",
   "metadata": {
    "vscode": {
     "languageId": "plaintext"
    }
   },
   "outputs": [],
   "source": [
    "import pandas as pd\n",
    "\n",
    "def load_and_convert_csv(filename):\n",
    "      age_group_mapping = {\n",
    "        1: \"Menor de 17 anos\",\n",
    "        2: \"17 anos\", \n",
    "        3: \"18 anos\",\n",
    "        4: \"19 anos\",\n",
    "        5: \"20 anos\",\n",
    "        6: \"21 anos\",\n",
    "        7: \"22 anos\",\n",
    "        8: \"23 anos\",\n",
    "        9: \"24 anos\",\n",
    "        10: \"25 anos\",\n",
    "        11: \"Entre 26 e 30 anos\",\n",
    "        12: \"Entre 31 e 35 anos\",\n",
    "        13: \"Entre 36 e 40 anos\",\n",
    "        14: \"Entre 41 e 45 anos\",\n",
    "        15: \"Entre 46 e 50 anos\",\n",
    "        16: \"Entre 51 e 55 anos\",\n",
    "        17: \"Entre 56 e 60 anos\",\n",
    "        18: \"Entre 61 e 65 anos\",\n",
    "        19: \"Entre 66 e 70 anos\",\n",
    "        20: \"Maior de 70 anos\"\n",
    "    }\n",
    "    \n",
    "    try:\n",
    "        df = pd.read_csv(filename, usecols=['NU_INCRICAO', 'TP_FAIXA_ETARIA'])\n",
    "    \n",
    "        df['FAIXA_ETARIA_DESC'] = df['TP_FAIXA_ETARIA'].map(age_group_mapping)\n",
    "        \n",
    "        unmapped = df[df['FAIXA_ETARIA_DESC'].isna()]\n",
    "        print(df.head(10))\n",
    "        \n",
    "        return df\n",
    "        \n",
    "    except Exception as e:\n",
    "        print(f\"Error loading CSV: {e}\")\n",
    "        return None\n",
    "\n",
    "# Main execution\n",
    "if __name__ == \"__main__\":\n",
    "    filename = \"PARTICIPANTES_2024.csv\"\n",
    "    \n",
    "    # Load and convert the data\n",
    "    df = load_and_convert_csv(filename)\n",
    "    \n",
    "    if df is not None:\n",
    "        print(f\"\\nTotal de participantes: {len(df)}\")\n"
   ]
  }
 ],
 "metadata": {
  "language_info": {
   "name": "python"
  }
 },
 "nbformat": 4,
 "nbformat_minor": 5
}
