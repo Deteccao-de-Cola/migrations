import pandas as pd

def load_and_convert_csv(filename):
    age_group_mapping = {
        1: "Menor de 17 anos",
        2: "17 anos", 
        3: "18 anos",
        4: "19 anos",
        5: "20 anos",
        6: "21 anos",
        7: "22 anos",
        8: "23 anos",
        9: "24 anos",
        10: "25 anos",
        11: "Entre 26 e 30 anos",
        12: "Entre 31 e 35 anos",
        13: "Entre 36 e 40 anos",
        14: "Entre 41 e 45 anos",
        15: "Entre 46 e 50 anos",
        16: "Entre 51 e 55 anos",
        17: "Entre 56 e 60 anos",
        18: "Entre 61 e 65 anos",
        19: "Entre 66 e 70 anos",
        20: "Maior de 70 anos"
    }
    
    try:
        df = pd.read_csv(filename, usecols=['NU_INCRICAO', 'TP_FAIXA_ETARIA'])
    
        df['FAIXA_ETARIA_DESC'] = df['TP_FAIXA_ETARIA'].map(age_group_mapping)
        
        unmapped = df[df['FAIXA_ETARIA_DESC'].isna()]
        print(df.head(10))
        
        return df
        
    except Exception as e:
        print(f"Error loading CSV: {e}")
        return None

# Main execution
if __name__ == "__main__":
    filename = "PARTICIPANTES_2024.csv"
    
    # Load and convert the data
    df = load_and_convert_csv(filename)
    
    if df is not None:
        print(f"\nTotal de participantes: {len(df)}")
